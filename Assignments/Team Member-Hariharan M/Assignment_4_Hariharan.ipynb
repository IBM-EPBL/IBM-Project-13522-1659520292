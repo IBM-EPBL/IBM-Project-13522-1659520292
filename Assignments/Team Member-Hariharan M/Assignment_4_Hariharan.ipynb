{
  "nbformat": 4,
  "nbformat_minor": 0,
  "metadata": {
    "colab": {
      "provenance": []
    },
    "kernelspec": {
      "name": "python3",
      "display_name": "Python 3"
    },
    "language_info": {
      "name": "python"
    }
  },
  "cells": [
    {
      "cell_type": "code",
      "execution_count": 1,
      "metadata": {
        "id": "iseNzmEQbL4e"
      },
      "outputs": [],
      "source": [
        "import pandas as pd \n",
        "import seaborn as sns\n",
        "from sklearn.model_selection import train_test_split\n",
        "from sklearn.preprocessing import LabelEncoder\n",
        "from keras.models import Model\n",
        "from keras.layers import LSTM, Activation, Dense, Dropout, Input, Embedding\n",
        "from keras.optimizers import RMSprop\n",
        "from keras.preprocessing.text import Tokenizer\n",
        "from keras.preprocessing import sequence\n",
        "from keras.utils import pad_sequences \n",
        "from keras.utils import to_categorical\n",
        "from keras.callbacks import EarlyStopping"
      ]
    },
    {
      "cell_type": "markdown",
      "source": [
        "# **Read Dataset, Do Pre-Process**"
      ],
      "metadata": {
        "id": "No5AEttUcNie"
      }
    },
    {
      "cell_type": "code",
      "source": [
        "d = pd.read_csv('spam.csv', delimiter =',' , encoding = 'latin-1')"
      ],
      "metadata": {
        "id": "oE_cZJPgcQi3"
      },
      "execution_count": 2,
      "outputs": []
    },
    {
      "cell_type": "code",
      "source": [
        "d.drop( ['Unnamed: 2' , 'Unnamed: 3' , 'Unnamed: 4'], axis=1 , inplace=True)"
      ],
      "metadata": {
        "id": "6TOz-X31cTI_"
      },
      "execution_count": 3,
      "outputs": []
    },
    {
      "cell_type": "code",
      "source": [
        "X = d.v2\n",
        "Y = d.v1  \n",
        "l = LabelEncoder() \n",
        "Y = l.fit_transform(Y) \n",
        "Y = Y.reshape(-1 , 1 )"
      ],
      "metadata": {
        "id": "wq07IpqKcVPf"
      },
      "execution_count": 4,
      "outputs": []
    },
    {
      "cell_type": "code",
      "source": [
        "X_train , X_test , Y_train, Y_test = train_test_split(X, Y, test_size = 0.15)"
      ],
      "metadata": {
        "id": "SgHbEAgOcbPL"
      },
      "execution_count": 5,
      "outputs": []
    },
    {
      "cell_type": "code",
      "source": [
        "max_w = 1000\n",
        "max_l = 150\n",
        "tok = Tokenizer(num_words = max_w) \n",
        "tok.fit_on_texts(X_train)\n",
        "sequences = tok.texts_to_sequences(X_train)\n",
        "sequences_matrix = pad_sequences(sequences , maxlen= max_l)"
      ],
      "metadata": {
        "id": "1W5-3lL3cdsC"
      },
      "execution_count": 6,
      "outputs": []
    },
    {
      "cell_type": "markdown",
      "source": [
        "# **Adding Layers**"
      ],
      "metadata": {
        "id": "uvgtD3v8chNr"
      }
    },
    {
      "cell_type": "code",
      "source": [
        "def RNN():\n",
        " inputs = Input(name = 'inputs', shape = [max_l])\n",
        " layer = Embedding(max_w, 50, input_length = max_l)(inputs)\n",
        " layer = LSTM(64)(layer)\n",
        " layer = Dense(256,name = 'FC1')(layer)\n",
        " layer = Activation('relu')(layer)\n",
        " layer = Dropout(0.5)(layer)\n",
        " layer = Dense(1,name = 'out_layer')(layer)\n",
        " layer = Activation('sigmoid')(layer)\n",
        " model = Model(inputs = inputs, outputs = layer)\n",
        " return model"
      ],
      "metadata": {
        "id": "u-oKLO1Fcjxb"
      },
      "execution_count": 7,
      "outputs": []
    },
    {
      "cell_type": "markdown",
      "source": [
        "# **Create Model**"
      ],
      "metadata": {
        "id": "5nBTAsDscmzr"
      }
    },
    {
      "cell_type": "code",
      "source": [
        "model = RNN()"
      ],
      "metadata": {
        "id": "PrnraSUkco51"
      },
      "execution_count": 8,
      "outputs": []
    },
    {
      "cell_type": "markdown",
      "source": [
        "# **Compile Model**"
      ],
      "metadata": {
        "id": "LW217boHcsF8"
      }
    },
    {
      "cell_type": "code",
      "source": [
        "model.compile(loss = 'binary_crossentropy', optimizer = RMSprop(),\n",
        "metrics = ['accuracy'])"
      ],
      "metadata": {
        "id": "vNXfPCPlcxgE"
      },
      "execution_count": 9,
      "outputs": []
    },
    {
      "cell_type": "markdown",
      "source": [
        "# **Fit the Model**"
      ],
      "metadata": {
        "id": "iTdwXXVtczV0"
      }
    },
    {
      "cell_type": "code",
      "source": [
        "model.fit(  sequences_matrix,  Y_train,  batch_size = 128,  epochs=10,  validation_split = 0.2,\n",
        " callbacks=[EarlyStopping(monitor = 'val_loss', min_delta = 0.0001) ] )"
      ],
      "metadata": {
        "colab": {
          "base_uri": "https://localhost:8080/"
        },
        "id": "fFDRZrYic2G8",
        "outputId": "3b407e46-ba3f-4457-e5a4-c755f47d5ef9"
      },
      "execution_count": 10,
      "outputs": [
        {
          "output_type": "stream",
          "name": "stdout",
          "text": [
            "Epoch 1/10\n",
            "30/30 [==============================] - 12s 314ms/step - loss: 0.3328 - accuracy: 0.8683 - val_loss: 0.1265 - val_accuracy: 0.9662\n",
            "Epoch 2/10\n",
            "30/30 [==============================] - 10s 323ms/step - loss: 0.0853 - accuracy: 0.9786 - val_loss: 0.0462 - val_accuracy: 0.9895\n"
          ]
        },
        {
          "output_type": "execute_result",
          "data": {
            "text/plain": [
              "<keras.callbacks.History at 0x7f386e94f650>"
            ]
          },
          "metadata": {},
          "execution_count": 10
        }
      ]
    },
    {
      "cell_type": "markdown",
      "source": [
        "# **Save Model**"
      ],
      "metadata": {
        "id": "b_ZHnb_7c7G1"
      }
    },
    {
      "cell_type": "code",
      "source": [
        "model.save('./Spam.h5')"
      ],
      "metadata": {
        "id": "kb3Hz9Zfc8o2"
      },
      "execution_count": 11,
      "outputs": []
    },
    {
      "cell_type": "markdown",
      "source": [
        "# **Test Model**"
      ],
      "metadata": {
        "id": "mv1EmTTlc-aX"
      }
    },
    {
      "cell_type": "code",
      "source": [
        "test_sequences = tok.texts_to_sequences(X_test)\n",
        "test_sequences_matrix = pad_sequences(test_sequences, maxlen = max_l)\n",
        "accr = model.evaluate(test_sequences_matrix, Y_test)\n",
        "print('Test set\\n Loss: {:0.3f}\\n Accuracy: {:0.3f}'.format(accr[0],accr[1]))"
      ],
      "metadata": {
        "id": "SHQByMbBdB4F",
        "outputId": "324308ee-6319-44b4-ad2c-a9583c90c760",
        "colab": {
          "base_uri": "https://localhost:8080/"
        }
      },
      "execution_count": 12,
      "outputs": [
        {
          "output_type": "stream",
          "name": "stdout",
          "text": [
            "27/27 [==============================] - 1s 23ms/step - loss: 0.0605 - accuracy: 0.9821\n",
            "Test set\n",
            " Loss: 0.060\n",
            " Accuracy: 0.982\n"
          ]
        }
      ]
    }
  ]
}