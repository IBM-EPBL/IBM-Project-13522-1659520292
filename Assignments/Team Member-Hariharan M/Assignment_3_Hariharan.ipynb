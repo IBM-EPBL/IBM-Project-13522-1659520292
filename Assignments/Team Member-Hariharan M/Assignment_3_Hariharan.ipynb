{
  "cells": [
    {
      "cell_type": "code",
      "execution_count": 2,
      "metadata": {
        "cellView": "code",
        "id": "9Ns2c4yV6fB7"
      },
      "outputs": [],
      "source": [
        "from google.colab import drive"
      ]
    },
    {
      "cell_type": "code",
      "execution_count": 3,
      "metadata": {
        "colab": {
          "base_uri": "https://localhost:8080/"
        },
        "id": "vd-kqveS64tH",
        "outputId": "8f691292-97b0-4e7b-a332-86954f82b43e"
      },
      "outputs": [
        {
          "output_type": "stream",
          "name": "stdout",
          "text": [
            "Mounted at /content/gdrive\n"
          ]
        }
      ],
      "source": [
        "drive.mount('/content/gdrive')"
      ]
    },
    {
      "cell_type": "code",
      "execution_count": 4,
      "metadata": {
        "id": "FjieHMSj7CwQ"
      },
      "outputs": [],
      "source": [
        "from tensorflow.keras.preprocessing.image import ImageDataGenerator \n",
        "\n",
        "train_datagen=ImageDataGenerator(rescale=1./255,shear_range=0.2,\n",
        "                                 zoom_range=0.2,horizontal_flip=True)\n",
        "test_datagen=ImageDataGenerator(rescale=1./255)"
      ]
    },
    {
      "cell_type": "markdown",
      "metadata": {
        "id": "RAl7fLdt7HH5"
      },
      "source": [
        "Image Augment"
      ]
    },
    {
      "cell_type": "code",
      "execution_count": 5,
      "metadata": {
        "colab": {
          "base_uri": "https://localhost:8080/"
        },
        "id": "0n9wlmn97NDh",
        "outputId": "32e481aa-b723-4ed8-b132-ffac1d604c77"
      },
      "outputs": [
        {
          "output_type": "stream",
          "name": "stdout",
          "text": [
            "Found 4317 images belonging to 5 classes.\n"
          ]
        }
      ],
      "source": [
        "x_train = train_datagen.flow_from_directory('gdrive/MyDrive/flowers', target_size=(64,64), class_mode='categorical', batch_size=100)"
      ]
    },
    {
      "cell_type": "code",
      "execution_count": 6,
      "metadata": {
        "colab": {
          "base_uri": "https://localhost:8080/"
        },
        "id": "SR7HRmSY72pj",
        "outputId": "ec16a6c1-a641-4f0a-c31a-80560b4a091e"
      },
      "outputs": [
        {
          "output_type": "stream",
          "name": "stdout",
          "text": [
            "Found 4317 images belonging to 5 classes.\n"
          ]
        }
      ],
      "source": [
        "x_test=test_datagen.flow_from_directory(\"gdrive/MyDrive/flowers\",target_size=(64,64),class_mode='categorical',batch_size=24)"
      ]
    },
    {
      "cell_type": "code",
      "execution_count": 7,
      "metadata": {
        "colab": {
          "base_uri": "https://localhost:8080/"
        },
        "id": "uAjxNJH-7_tb",
        "outputId": "850d7702-cfc7-40e5-8070-ff4d51a39063"
      },
      "outputs": [
        {
          "output_type": "execute_result",
          "data": {
            "text/plain": [
              "{'daisy': 0, 'dandelion': 1, 'rose': 2, 'sunflower': 3, 'tulip': 4}"
            ]
          },
          "metadata": {},
          "execution_count": 7
        }
      ],
      "source": [
        "x_train.class_indices"
      ]
    },
    {
      "cell_type": "markdown",
      "metadata": {
        "id": "nUQdRV0J8CuD"
      },
      "source": [
        "# **Create Model, Add Layers**"
      ]
    },
    {
      "cell_type": "code",
      "execution_count": 8,
      "metadata": {
        "id": "VHurDMdB8JSU"
      },
      "outputs": [],
      "source": [
        "from tensorflow.keras.models import Sequential\n",
        "from tensorflow.keras.layers import Convolution2D, MaxPooling2D, Dense, Flatten\n",
        "from keras.callbacks import EarlyStopping, ReduceLROnPlateau"
      ]
    },
    {
      "cell_type": "code",
      "execution_count": 9,
      "metadata": {
        "id": "vJmIl8yu8M-s"
      },
      "outputs": [],
      "source": [
        "model = Sequential()\n",
        "model.add(Convolution2D(32,(3,3),activation='relu',input_shape=(64,64,3)))\n",
        "model.add(MaxPooling2D((2,2)))\n",
        "model.add(Flatten())#flatten layer\n",
        "model.add(Dense(300,activation='relu'))\n",
        "model.add(Dense(150,activation='relu'))\n",
        "model.add(Dense(5,activation='softmax'))"
      ]
    },
    {
      "cell_type": "code",
      "execution_count": 10,
      "metadata": {
        "colab": {
          "base_uri": "https://localhost:8080/"
        },
        "id": "7ujp0OiF8O-E",
        "outputId": "114f5dd2-fc39-4ae8-e38a-1d69e2fbdd78"
      },
      "outputs": [
        {
          "output_type": "stream",
          "name": "stdout",
          "text": [
            "Model: \"sequential\"\n",
            "_________________________________________________________________\n",
            " Layer (type)                Output Shape              Param #   \n",
            "=================================================================\n",
            " conv2d (Conv2D)             (None, 62, 62, 32)        896       \n",
            "                                                                 \n",
            " max_pooling2d (MaxPooling2D  (None, 31, 31, 32)       0         \n",
            " )                                                               \n",
            "                                                                 \n",
            " flatten (Flatten)           (None, 30752)             0         \n",
            "                                                                 \n",
            " dense (Dense)               (None, 300)               9225900   \n",
            "                                                                 \n",
            " dense_1 (Dense)             (None, 150)               45150     \n",
            "                                                                 \n",
            " dense_2 (Dense)             (None, 5)                 755       \n",
            "                                                                 \n",
            "=================================================================\n",
            "Total params: 9,272,701\n",
            "Trainable params: 9,272,701\n",
            "Non-trainable params: 0\n",
            "_________________________________________________________________\n"
          ]
        }
      ],
      "source": [
        "model.summary()"
      ]
    },
    {
      "cell_type": "markdown",
      "metadata": {
        "id": "CetaAmDP8Rfk"
      },
      "source": [
        "# **Compile Model**"
      ]
    },
    {
      "cell_type": "code",
      "execution_count": 11,
      "metadata": {
        "id": "0ah8a_VY8W7d"
      },
      "outputs": [],
      "source": [
        "model.compile(optimizer='adam',loss='categorical_crossentropy',metrics=['accuracy'])"
      ]
    },
    {
      "cell_type": "markdown",
      "metadata": {
        "id": "OLo9v_xV8bJV"
      },
      "source": [
        "# **Fit the model**"
      ]
    },
    {
      "cell_type": "code",
      "execution_count": 12,
      "metadata": {
        "colab": {
          "base_uri": "https://localhost:8080/"
        },
        "id": "9z8DE2qu8htU",
        "outputId": "77157224-f27f-475b-a7bb-b42245b73b7c"
      },
      "outputs": [
        {
          "output_type": "stream",
          "name": "stderr",
          "text": [
            "/usr/local/lib/python3.7/dist-packages/ipykernel_launcher.py:1: UserWarning: `Model.fit_generator` is deprecated and will be removed in a future version. Please use `Model.fit`, which supports generators.\n",
            "  \"\"\"Entry point for launching an IPython kernel.\n"
          ]
        },
        {
          "output_type": "stream",
          "name": "stdout",
          "text": [
            "Epoch 1/30\n",
            "44/44 [==============================] - 1559s 35s/step - loss: 1.5999 - accuracy: 0.3922 - val_loss: 1.1760 - val_accuracy: 0.5080\n",
            "Epoch 2/30\n",
            "44/44 [==============================] - 60s 1s/step - loss: 1.1214 - accuracy: 0.5423 - val_loss: 1.0823 - val_accuracy: 0.5627\n",
            "Epoch 3/30\n",
            "44/44 [==============================] - 60s 1s/step - loss: 1.0163 - accuracy: 0.5949 - val_loss: 1.0109 - val_accuracy: 0.5981\n",
            "Epoch 4/30\n",
            "44/44 [==============================] - 60s 1s/step - loss: 0.9325 - accuracy: 0.6426 - val_loss: 0.9211 - val_accuracy: 0.6442\n",
            "Epoch 5/30\n",
            "44/44 [==============================] - 60s 1s/step - loss: 0.8805 - accuracy: 0.6653 - val_loss: 0.9289 - val_accuracy: 0.6500\n",
            "Epoch 6/30\n",
            "44/44 [==============================] - 60s 1s/step - loss: 0.8366 - accuracy: 0.6822 - val_loss: 0.7755 - val_accuracy: 0.7058\n",
            "Epoch 7/30\n",
            "44/44 [==============================] - 60s 1s/step - loss: 0.7892 - accuracy: 0.6947 - val_loss: 0.7964 - val_accuracy: 0.6993\n",
            "Epoch 8/30\n",
            "44/44 [==============================] - 61s 1s/step - loss: 0.7516 - accuracy: 0.7125 - val_loss: 0.6941 - val_accuracy: 0.7406\n",
            "Epoch 9/30\n",
            "44/44 [==============================] - 61s 1s/step - loss: 0.7236 - accuracy: 0.7281 - val_loss: 0.6692 - val_accuracy: 0.7426\n",
            "Epoch 10/30\n",
            "44/44 [==============================] - 60s 1s/step - loss: 0.7103 - accuracy: 0.7322 - val_loss: 0.7192 - val_accuracy: 0.7294\n",
            "Epoch 11/30\n",
            "44/44 [==============================] - 60s 1s/step - loss: 0.6472 - accuracy: 0.7644 - val_loss: 0.5666 - val_accuracy: 0.7906\n",
            "Epoch 12/30\n",
            "44/44 [==============================] - 60s 1s/step - loss: 0.6296 - accuracy: 0.7609 - val_loss: 0.5721 - val_accuracy: 0.7867\n",
            "Epoch 13/30\n",
            "44/44 [==============================] - 59s 1s/step - loss: 0.6154 - accuracy: 0.7677 - val_loss: 0.5370 - val_accuracy: 0.8008\n",
            "Epoch 14/30\n",
            "44/44 [==============================] - 59s 1s/step - loss: 0.5780 - accuracy: 0.7809 - val_loss: 0.5971 - val_accuracy: 0.7781\n",
            "Epoch 15/30\n",
            "44/44 [==============================] - 58s 1s/step - loss: 0.5570 - accuracy: 0.7982 - val_loss: 0.4320 - val_accuracy: 0.8423\n",
            "Epoch 16/30\n",
            "44/44 [==============================] - 59s 1s/step - loss: 0.5505 - accuracy: 0.7950 - val_loss: 0.4941 - val_accuracy: 0.8168\n",
            "Epoch 17/30\n",
            "44/44 [==============================] - 59s 1s/step - loss: 0.5244 - accuracy: 0.8043 - val_loss: 0.6012 - val_accuracy: 0.7781\n",
            "Epoch 18/30\n",
            "44/44 [==============================] - 58s 1s/step - loss: 0.4862 - accuracy: 0.8209 - val_loss: 0.3894 - val_accuracy: 0.8645\n",
            "Epoch 19/30\n",
            "44/44 [==============================] - 59s 1s/step - loss: 0.4577 - accuracy: 0.8360 - val_loss: 0.3880 - val_accuracy: 0.8603\n",
            "Epoch 20/30\n",
            "44/44 [==============================] - 58s 1s/step - loss: 0.4428 - accuracy: 0.8379 - val_loss: 0.4170 - val_accuracy: 0.8494\n",
            "Epoch 21/30\n",
            "44/44 [==============================] - 58s 1s/step - loss: 0.4217 - accuracy: 0.8374 - val_loss: 0.3065 - val_accuracy: 0.8902\n",
            "Epoch 22/30\n",
            "44/44 [==============================] - 59s 1s/step - loss: 0.3947 - accuracy: 0.8578 - val_loss: 0.3481 - val_accuracy: 0.8717\n",
            "Epoch 23/30\n",
            "44/44 [==============================] - 59s 1s/step - loss: 0.3887 - accuracy: 0.8594 - val_loss: 0.3555 - val_accuracy: 0.8659\n",
            "Epoch 24/30\n",
            "44/44 [==============================] - 59s 1s/step - loss: 0.4024 - accuracy: 0.8497 - val_loss: 0.2770 - val_accuracy: 0.9046\n",
            "Epoch 25/30\n",
            "44/44 [==============================] - 64s 1s/step - loss: 0.3318 - accuracy: 0.8819 - val_loss: 0.2558 - val_accuracy: 0.9090\n",
            "Epoch 26/30\n",
            "44/44 [==============================] - 61s 1s/step - loss: 0.3340 - accuracy: 0.8772 - val_loss: 0.2415 - val_accuracy: 0.9266\n",
            "Epoch 27/30\n",
            "44/44 [==============================] - 62s 1s/step - loss: 0.3230 - accuracy: 0.8823 - val_loss: 0.2597 - val_accuracy: 0.9050\n",
            "Epoch 28/30\n",
            "44/44 [==============================] - 62s 1s/step - loss: 0.3120 - accuracy: 0.8879 - val_loss: 0.2534 - val_accuracy: 0.9092\n",
            "Epoch 29/30\n",
            "44/44 [==============================] - 60s 1s/step - loss: 0.2863 - accuracy: 0.8995 - val_loss: 0.1835 - val_accuracy: 0.9379\n",
            "Epoch 30/30\n",
            "44/44 [==============================] - 62s 1s/step - loss: 0.2627 - accuracy: 0.9050 - val_loss: 0.1868 - val_accuracy: 0.9386\n"
          ]
        },
        {
          "output_type": "execute_result",
          "data": {
            "text/plain": [
              "<keras.callbacks.History at 0x7f057c9ce150>"
            ]
          },
          "metadata": {},
          "execution_count": 12
        }
      ],
      "source": [
        "model.fit_generator(x_train,steps_per_epoch=len(x_train), validation_data=x_test, validation_steps=len(x_test), epochs= 30)"
      ]
    },
    {
      "cell_type": "markdown",
      "metadata": {
        "id": "-4E-9eS58z9_"
      },
      "source": [
        "# **Save the model**"
      ]
    },
    {
      "cell_type": "code",
      "execution_count": 13,
      "metadata": {
        "id": "kxiVH1rU83uH"
      },
      "outputs": [],
      "source": [
        "model.save('gdrive/MyDrive/flowers/flower_cnn.h5')"
      ]
    },
    {
      "cell_type": "markdown",
      "metadata": {
        "id": "iLbLIXL88-NY"
      },
      "source": [
        "# **Test Model**"
      ]
    },
    {
      "cell_type": "code",
      "execution_count": 14,
      "metadata": {
        "id": "4qrT7R2T9CVA"
      },
      "outputs": [],
      "source": [
        "import numpy as np"
      ]
    },
    {
      "cell_type": "code",
      "execution_count": 15,
      "metadata": {
        "id": "_McCFvgw-JwL"
      },
      "outputs": [],
      "source": [
        "from tensorflow.keras.models import load_model\n",
        "from tensorflow.keras.preprocessing import image"
      ]
    },
    {
      "cell_type": "code",
      "execution_count": 16,
      "metadata": {
        "colab": {
          "base_uri": "https://localhost:8080/"
        },
        "id": "wD11XiWD-LpU",
        "outputId": "f4d93e0f-e345-42a7-d20a-4c656a85ab47"
      },
      "outputs": [
        {
          "output_type": "execute_result",
          "data": {
            "text/plain": [
              "['daisy', 'dandelion', 'rose', 'sunflower', 'tulip']"
            ]
          },
          "metadata": {},
          "execution_count": 16
        }
      ],
      "source": [
        "model=load_model('gdrive/MyDrive/flowers/flower_cnn.h5')\n",
        "val = list(x_train.class_indices.keys())\n",
        "val"
      ]
    },
    {
      "cell_type": "code",
      "execution_count": 17,
      "metadata": {
        "colab": {
          "base_uri": "https://localhost:8080/",
          "height": 53
        },
        "id": "XUMY_djC-Psk",
        "outputId": "2af30ab4-476f-47b1-9172-5a9fd7eb718a"
      },
      "outputs": [
        {
          "output_type": "stream",
          "name": "stdout",
          "text": [
            "1/1 [==============================] - 0s 173ms/step\n"
          ]
        },
        {
          "output_type": "execute_result",
          "data": {
            "text/plain": [
              "'daisy'"
            ],
            "application/vnd.google.colaboratory.intrinsic+json": {
              "type": "string"
            }
          },
          "metadata": {},
          "execution_count": 17
        }
      ],
      "source": [
        "img=image.load_img(r\"gdrive/MyDrive/flowers/dandelion/160456948_38c3817c6a_m.jpg\",target_size=(64,64))\n",
        "x=image.img_to_array(img)\n",
        "x=np.expand_dims(x,axis=0)\n",
        "y=np.argmax(model.predict(x),axis=1)\n",
        "\n",
        "index=['daisy','dandelion','rose','sunflower','tulip']\n",
        "index[y[0]]"
      ]
    }
  ],
  "metadata": {
    "colab": {
      "provenance": []
    },
    "kernelspec": {
      "display_name": "Python 3",
      "name": "python3"
    },
    "language_info": {
      "name": "python"
    }
  },
  "nbformat": 4,
  "nbformat_minor": 0
}