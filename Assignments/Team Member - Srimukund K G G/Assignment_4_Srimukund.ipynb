{
 "cells": [
  {
   "cell_type": "code",
   "execution_count": 1,
   "metadata": {
    "id": "WKKDFtCrleSW"
   },
   "outputs": [],
   "source": [
    "import pandas as pd \n",
    "import seaborn as sns\n",
    "from sklearn.model_selection import train_test_split\n",
    "from sklearn.preprocessing import LabelEncoder\n",
    "from keras.models import Model\n",
    "from keras.layers import LSTM, Activation, Dense, Dropout, Input, Embedding\n",
    "from keras.optimizers import RMSprop\n",
    "from keras.preprocessing.text import Tokenizer\n",
    "from keras.preprocessing import sequence\n",
    "from keras.utils import pad_sequences \n",
    "from keras.utils import to_categorical\n",
    "from keras.callbacks import EarlyStopping \n"
   ]
  },
  {
   "cell_type": "markdown",
   "metadata": {
    "id": "uUurVHRdn2AR"
   },
   "source": [
    "# Read Dataset, Do Pre-Process"
   ]
  },
  {
   "cell_type": "code",
   "execution_count": 2,
   "metadata": {
    "id": "L7rLGd-hnPRU"
   },
   "outputs": [],
   "source": [
    "d = pd.read_csv('spam.csv', delimiter =',' , encoding = 'latin-1')"
   ]
  },
  {
   "cell_type": "code",
   "execution_count": 3,
   "metadata": {
    "id": "Z1PH9BjFoPCB"
   },
   "outputs": [],
   "source": [
    "d.drop( ['Unnamed: 2' , 'Unnamed: 3' , 'Unnamed: 4'], axis=1 , inplace=True)"
   ]
  },
  {
   "cell_type": "code",
   "execution_count": 4,
   "metadata": {
    "id": "3GuoyK19olPE"
   },
   "outputs": [],
   "source": [
    "X = d.v2\n",
    "Y = d.v1  \n",
    "l = LabelEncoder() \n",
    "Y = l.fit_transform(Y) \n",
    "Y = Y.reshape(-1 , 1 ) "
   ]
  },
  {
   "cell_type": "code",
   "execution_count": 5,
   "metadata": {
    "id": "ZeKyyPcTpB1l"
   },
   "outputs": [],
   "source": [
    "X_train , X_test , Y_train, Y_test = train_test_split(X, Y, test_size = 0.15)"
   ]
  },
  {
   "cell_type": "code",
   "execution_count": 6,
   "metadata": {
    "id": "d5aRXg3bpS_x"
   },
   "outputs": [],
   "source": [
    "max_w = 1000\n",
    "max_l = 150\n",
    "tok = Tokenizer(num_words = max_w) \n",
    "tok.fit_on_texts(X_train)\n",
    "sequences = tok.texts_to_sequences(X_train)\n",
    "sequences_matrix = pad_sequences(sequences , maxlen= max_l)"
   ]
  },
  {
   "cell_type": "markdown",
   "metadata": {
    "id": "_4X1C7jzqj-O"
   },
   "source": [
    "# Adding Layers"
   ]
  },
  {
   "cell_type": "code",
   "execution_count": 7,
   "metadata": {
    "id": "Ozl7mq3Hpu04"
   },
   "outputs": [],
   "source": [
    "def RNN():\n",
    " inputs = Input(name = 'inputs', shape = [max_l])\n",
    " layer = Embedding(max_w, 50, input_length = max_l)(inputs)\n",
    " layer = LSTM(64)(layer)\n",
    " layer = Dense(256,name = 'FC1')(layer)\n",
    " layer = Activation('relu')(layer)\n",
    " layer = Dropout(0.5)(layer)\n",
    " layer = Dense(1,name = 'out_layer')(layer)\n",
    " layer = Activation('sigmoid')(layer)\n",
    " model = Model(inputs = inputs, outputs = layer)\n",
    " return model"
   ]
  },
  {
   "cell_type": "markdown",
   "metadata": {
    "id": "M9SXvfImrE7s"
   },
   "source": [
    "# Create Model"
   ]
  },
  {
   "cell_type": "code",
   "execution_count": 8,
   "metadata": {
    "id": "5nMSILYzrCRN"
   },
   "outputs": [],
   "source": [
    "model = RNN()"
   ]
  },
  {
   "cell_type": "markdown",
   "metadata": {
    "id": "tsnTouXNrehJ"
   },
   "source": [
    "#Compile Model"
   ]
  },
  {
   "cell_type": "code",
   "execution_count": 9,
   "metadata": {
    "id": "0nBcijBVrcFn"
   },
   "outputs": [],
   "source": [
    "model.compile(loss = 'binary_crossentropy', optimizer = RMSprop(),\n",
    "metrics = ['accuracy'])\n"
   ]
  },
  {
   "cell_type": "markdown",
   "metadata": {
    "id": "6NHDxqvzrk-p"
   },
   "source": [
    "# Fit the Model"
   ]
  },
  {
   "cell_type": "code",
   "execution_count": 10,
   "metadata": {
    "colab": {
     "base_uri": "https://localhost:8080/"
    },
    "id": "2Fv_JA64rjdD",
    "outputId": "79ca4438-ba42-482e-b1f8-fc0f6eb59f4d"
   },
   "outputs": [
    {
     "name": "stdout",
     "output_type": "stream",
     "text": [
      "Epoch 1/10\n",
      "30/30 [==============================] - 11s 199ms/step - loss: 0.3238 - accuracy: 0.8770 - val_loss: 0.1500 - val_accuracy: 0.9610\n",
      "Epoch 2/10\n",
      "30/30 [==============================] - 4s 148ms/step - loss: 0.0797 - accuracy: 0.9820 - val_loss: 0.0865 - val_accuracy: 0.9778\n"
     ]
    },
    {
     "data": {
      "text/plain": [
       "<keras.callbacks.History at 0x251df72ff10>"
      ]
     },
     "execution_count": 10,
     "metadata": {},
     "output_type": "execute_result"
    }
   ],
   "source": [
    "model.fit(  sequences_matrix,  Y_train,  batch_size = 128,  epochs=10,  validation_split = 0.2,\n",
    " callbacks=[EarlyStopping(monitor = 'val_loss', min_delta = 0.0001) ] )"
   ]
  },
  {
   "cell_type": "markdown",
   "metadata": {
    "id": "pVAxnoIRr23w"
   },
   "source": [
    "# Save Model"
   ]
  },
  {
   "cell_type": "code",
   "execution_count": 11,
   "metadata": {
    "id": "7f65FxAArzOh"
   },
   "outputs": [],
   "source": [
    "model.save('./Spam.h5')"
   ]
  },
  {
   "cell_type": "markdown",
   "metadata": {
    "id": "zFV13C03sFhB"
   },
   "source": [
    "#Test Model"
   ]
  },
  {
   "cell_type": "code",
   "execution_count": 12,
   "metadata": {
    "colab": {
     "base_uri": "https://localhost:8080/"
    },
    "id": "2dqA55QusC5P",
    "outputId": "9e201b37-fbe0-4749-d053-979a57922714"
   },
   "outputs": [
    {
     "name": "stdout",
     "output_type": "stream",
     "text": [
      "27/27 [==============================] - 1s 20ms/step - loss: 0.0558 - accuracy: 0.9833\n",
      "Test set\n",
      " Loss: 0.056\n",
      " Accuracy: 0.983\n"
     ]
    }
   ],
   "source": [
    "test_sequences = tok.texts_to_sequences(X_test)\n",
    "test_sequences_matrix = pad_sequences(test_sequences, maxlen = max_l)\n",
    "accr = model.evaluate(test_sequences_matrix, Y_test)\n",
    "print('Test set\\n Loss: {:0.3f}\\n Accuracy: {:0.3f}'.format(accr[0],accr[1]))\n"
   ]
  }
 ],
 "metadata": {
  "colab": {
   "provenance": []
  },
  "kernelspec": {
   "display_name": "Python 3 (ipykernel)",
   "language": "python",
   "name": "python3"
  },
  "language_info": {
   "codemirror_mode": {
    "name": "ipython",
    "version": 3
   },
   "file_extension": ".py",
   "mimetype": "text/x-python",
   "name": "python",
   "nbconvert_exporter": "python",
   "pygments_lexer": "ipython3",
   "version": "3.9.7"
  }
 },
 "nbformat": 4,
 "nbformat_minor": 1
}
