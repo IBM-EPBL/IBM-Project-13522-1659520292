{
  "nbformat": 4,
  "nbformat_minor": 0,
  "metadata": {
    "colab": {
      "provenance": []
    },
    "kernelspec": {
      "name": "python3",
      "display_name": "Python 3"
    },
    "language_info": {
      "name": "python"
    }
  },
  "cells": [
    {
      "cell_type": "code",
      "execution_count": 6,
      "metadata": {
        "id": "WKKDFtCrleSW"
      },
      "outputs": [],
      "source": [
        "import pandas as pd \n",
        "import seaborn as sns\n",
        "from sklearn.model_selection import train_test_split\n",
        "from sklearn.preprocessing import LabelEncoder\n",
        "from keras.models import Model\n",
        "from keras.layers import LSTM, Activation, Dense, Dropout, Input, Embedding\n",
        "from keras.optimizers import RMSprop\n",
        "from keras.preprocessing.text import Tokenizer\n",
        "from keras.preprocessing import sequence\n",
        "from keras.utils import pad_sequences \n",
        "from keras.utils import to_categorical\n",
        "from keras.callbacks import EarlyStopping \n"
      ]
    },
    {
      "cell_type": "markdown",
      "source": [
        "# Read Dataset, Do Pre-Process"
      ],
      "metadata": {
        "id": "uUurVHRdn2AR"
      }
    },
    {
      "cell_type": "code",
      "source": [
        "d = pd.read_csv('spam.csv', delimiter =',' , encoding = 'latin-1')"
      ],
      "metadata": {
        "id": "L7rLGd-hnPRU"
      },
      "execution_count": 8,
      "outputs": []
    },
    {
      "cell_type": "code",
      "source": [
        "d.drop( ['Unnamed: 2' , 'Unnamed: 3' , 'Unnamed: 4'], axis=1 , inplace=True)"
      ],
      "metadata": {
        "id": "Z1PH9BjFoPCB"
      },
      "execution_count": 9,
      "outputs": []
    },
    {
      "cell_type": "code",
      "source": [
        "X = d.v2\n",
        "Y = d.v1  \n",
        "l = LabelEncoder() \n",
        "Y = l.fit_transform(Y) \n",
        "Y = Y.reshape(-1 , 1 ) "
      ],
      "metadata": {
        "id": "3GuoyK19olPE"
      },
      "execution_count": 11,
      "outputs": []
    },
    {
      "cell_type": "code",
      "source": [
        "X_train , X_test , Y_train, Y_test = train_test_split(X, Y, test_size = 0.15)"
      ],
      "metadata": {
        "id": "ZeKyyPcTpB1l"
      },
      "execution_count": 12,
      "outputs": []
    },
    {
      "cell_type": "code",
      "source": [
        "max_w = 1000\n",
        "max_l = 150\n",
        "tok = Tokenizer(num_words = max_w) \n",
        "tok.fit_on_texts(X_train)\n",
        "sequences = tok.texts_to_sequences(X_train)\n",
        "sequences_matrix = pad_sequences(sequences , maxlen= max_l)"
      ],
      "metadata": {
        "id": "d5aRXg3bpS_x"
      },
      "execution_count": 17,
      "outputs": []
    },
    {
      "cell_type": "markdown",
      "source": [
        "# Adding Layers"
      ],
      "metadata": {
        "id": "_4X1C7jzqj-O"
      }
    },
    {
      "cell_type": "code",
      "source": [
        "def RNN():\n",
        " inputs = Input(name = 'inputs', shape = [max_l])\n",
        " layer = Embedding(max_w, 50, input_length = max_l)(inputs)\n",
        " layer = LSTM(64)(layer)\n",
        " layer = Dense(256,name = 'FC1')(layer)\n",
        " layer = Activation('relu')(layer)\n",
        " layer = Dropout(0.5)(layer)\n",
        " layer = Dense(1,name = 'out_layer')(layer)\n",
        " layer = Activation('sigmoid')(layer)\n",
        " model = Model(inputs = inputs, outputs = layer)\n",
        " return model"
      ],
      "metadata": {
        "id": "Ozl7mq3Hpu04"
      },
      "execution_count": 23,
      "outputs": []
    },
    {
      "cell_type": "markdown",
      "source": [
        "# Create Model"
      ],
      "metadata": {
        "id": "M9SXvfImrE7s"
      }
    },
    {
      "cell_type": "code",
      "source": [
        "model = RNN()"
      ],
      "metadata": {
        "id": "5nMSILYzrCRN"
      },
      "execution_count": 24,
      "outputs": []
    },
    {
      "cell_type": "markdown",
      "source": [
        "#Compile Model"
      ],
      "metadata": {
        "id": "tsnTouXNrehJ"
      }
    },
    {
      "cell_type": "code",
      "source": [
        "model.compile(loss = 'binary_crossentropy', optimizer = RMSprop(),\n",
        "metrics = ['accuracy'])\n"
      ],
      "metadata": {
        "id": "0nBcijBVrcFn"
      },
      "execution_count": 26,
      "outputs": []
    },
    {
      "cell_type": "markdown",
      "source": [
        "# Fit the Model"
      ],
      "metadata": {
        "id": "6NHDxqvzrk-p"
      }
    },
    {
      "cell_type": "code",
      "source": [
        "model.fit(  sequences_matrix,  Y_train,  batch_size = 128,  epochs=10,  validation_split = 0.2,\n",
        " callbacks=[EarlyStopping(monitor = 'val_loss', min_delta = 0.0001) ] )"
      ],
      "metadata": {
        "colab": {
          "base_uri": "https://localhost:8080/"
        },
        "id": "2Fv_JA64rjdD",
        "outputId": "79ca4438-ba42-482e-b1f8-fc0f6eb59f4d"
      },
      "execution_count": 27,
      "outputs": [
        {
          "output_type": "stream",
          "name": "stdout",
          "text": [
            "Epoch 1/10\n",
            "30/30 [==============================] - 9s 199ms/step - loss: 0.3130 - accuracy: 0.8902 - val_loss: 0.1252 - val_accuracy: 0.9652\n",
            "Epoch 2/10\n",
            "30/30 [==============================] - 6s 196ms/step - loss: 0.0837 - accuracy: 0.9778 - val_loss: 0.0429 - val_accuracy: 0.9884\n"
          ]
        },
        {
          "output_type": "execute_result",
          "data": {
            "text/plain": [
              "<keras.callbacks.History at 0x7f4345d00310>"
            ]
          },
          "metadata": {},
          "execution_count": 27
        }
      ]
    },
    {
      "cell_type": "markdown",
      "source": [
        "# Save Model"
      ],
      "metadata": {
        "id": "pVAxnoIRr23w"
      }
    },
    {
      "cell_type": "code",
      "source": [
        "model.save('./Spam.h5')"
      ],
      "metadata": {
        "id": "7f65FxAArzOh"
      },
      "execution_count": 28,
      "outputs": []
    },
    {
      "cell_type": "markdown",
      "source": [
        "#Test Model"
      ],
      "metadata": {
        "id": "zFV13C03sFhB"
      }
    },
    {
      "cell_type": "code",
      "source": [
        "test_sequences = tok.texts_to_sequences(X_test)\n",
        "test_sequences_matrix = pad_sequences(test_sequences, maxlen = max_l)\n",
        "accr = model.evaluate(test_sequences_matrix, Y_test)\n",
        "print('Test set\\n Loss: {:0.3f}\\n Accuracy: {:0.3f}'.format(accr[0],accr[1]))\n"
      ],
      "metadata": {
        "colab": {
          "base_uri": "https://localhost:8080/"
        },
        "id": "2dqA55QusC5P",
        "outputId": "9e201b37-fbe0-4749-d053-979a57922714"
      },
      "execution_count": 29,
      "outputs": [
        {
          "output_type": "stream",
          "name": "stdout",
          "text": [
            "27/27 [==============================] - 1s 27ms/step - loss: 0.0488 - accuracy: 0.9880\n",
            "Test set\n",
            " Loss: 0.049\n",
            " Accuracy: 0.988\n"
          ]
        }
      ]
    },
    {
      "cell_type": "code",
      "source": [],
      "metadata": {
        "id": "CzRB2nV8sTA4"
      },
      "execution_count": null,
      "outputs": []
    }
  ]
}