{
  "nbformat": 4,
  "nbformat_minor": 0,
  "metadata": {
    "colab": {
      "provenance": []
    },
    "kernelspec": {
      "name": "python3",
      "display_name": "Python 3"
    },
    "language_info": {
      "name": "python"
    }
  },
  "cells": [
    {
      "cell_type": "code",
      "execution_count": 1,
      "metadata": {
        "id": "1Un91T5_I8-V"
      },
      "outputs": [],
      "source": [
        "from google.colab import drive"
      ]
    },
    {
      "cell_type": "code",
      "source": [
        "drive.mount('/content/gdrive')"
      ],
      "metadata": {
        "colab": {
          "base_uri": "https://localhost:8080/"
        },
        "id": "M8rab5eqO4ke",
        "outputId": "b5bd31b8-91a7-4e4c-b2c5-13fcabe34982"
      },
      "execution_count": 2,
      "outputs": [
        {
          "output_type": "stream",
          "name": "stdout",
          "text": [
            "Mounted at /content/gdrive\n"
          ]
        }
      ]
    },
    {
      "cell_type": "code",
      "source": [
        "from tensorflow.keras.preprocessing.image import ImageDataGenerator \n",
        "\n",
        "train_datagen=ImageDataGenerator(rescale=1./255,shear_range=0.2,\n",
        "                                 zoom_range=0.2,horizontal_flip=True)\n",
        "test_datagen=ImageDataGenerator(rescale=1./255)"
      ],
      "metadata": {
        "id": "wwIAwfn9O9t4"
      },
      "execution_count": 3,
      "outputs": []
    },
    {
      "cell_type": "markdown",
      "source": [
        "# Image Augment"
      ],
      "metadata": {
        "id": "7OvV_7rwU58C"
      }
    },
    {
      "cell_type": "code",
      "source": [
        "x_train = train_datagen.flow_from_directory('gdrive/MyDrive/flowers', target_size=(64,64), class_mode='categorical', batch_size=100)"
      ],
      "metadata": {
        "colab": {
          "base_uri": "https://localhost:8080/"
        },
        "id": "5VITFMVKVJJz",
        "outputId": "4e65345e-1385-46fc-be7f-340a79e61091"
      },
      "execution_count": 11,
      "outputs": [
        {
          "output_type": "stream",
          "name": "stdout",
          "text": [
            "Found 4317 images belonging to 5 classes.\n"
          ]
        }
      ]
    },
    {
      "cell_type": "code",
      "source": [
        "x_test=test_datagen.flow_from_directory(\"gdrive/MyDrive/flowers\",target_size=(64,64),class_mode='categorical',batch_size=24)"
      ],
      "metadata": {
        "colab": {
          "base_uri": "https://localhost:8080/"
        },
        "id": "iDNvD7pSVf8K",
        "outputId": "a49a55e3-8275-473a-8458-71b9e60b1691"
      },
      "execution_count": 12,
      "outputs": [
        {
          "output_type": "stream",
          "name": "stdout",
          "text": [
            "Found 4317 images belonging to 5 classes.\n"
          ]
        }
      ]
    },
    {
      "cell_type": "code",
      "source": [
        "x_train.class_indices"
      ],
      "metadata": {
        "colab": {
          "base_uri": "https://localhost:8080/"
        },
        "id": "w35dd5RcVnnU",
        "outputId": "5a58e96b-50ec-4737-97ab-6d832571d6e2"
      },
      "execution_count": 13,
      "outputs": [
        {
          "output_type": "execute_result",
          "data": {
            "text/plain": [
              "{'daisy': 0, 'dandelion': 1, 'rose': 2, 'sunflower': 3, 'tulip': 4}"
            ]
          },
          "metadata": {},
          "execution_count": 13
        }
      ]
    },
    {
      "cell_type": "markdown",
      "source": [
        "# Create Model, Add Layers"
      ],
      "metadata": {
        "id": "XLDLpeDxVx4S"
      }
    },
    {
      "cell_type": "code",
      "source": [
        "from tensorflow.keras.models import Sequential\n",
        "from tensorflow.keras.layers import Convolution2D, MaxPooling2D, Dense, Flatten\n",
        "from keras.callbacks import EarlyStopping, ReduceLROnPlateau"
      ],
      "metadata": {
        "id": "uC3BPZepV4M5"
      },
      "execution_count": 14,
      "outputs": []
    },
    {
      "cell_type": "code",
      "source": [
        "model = Sequential()\n",
        "model.add(Convolution2D(32,(3,3),activation='relu',input_shape=(64,64,3)))\n",
        "model.add(MaxPooling2D((2,2)))\n",
        "model.add(Flatten())#flatten layer\n",
        "model.add(Dense(300,activation='relu'))\n",
        "model.add(Dense(150,activation='relu'))\n",
        "model.add(Dense(5,activation='softmax'))"
      ],
      "metadata": {
        "id": "k1WiGrOYV6yN"
      },
      "execution_count": 15,
      "outputs": []
    },
    {
      "cell_type": "code",
      "source": [
        "model.summary()"
      ],
      "metadata": {
        "colab": {
          "base_uri": "https://localhost:8080/"
        },
        "id": "_rB_1MjiWFR2",
        "outputId": "7e14310f-a897-43a8-e77e-a96a403c464c"
      },
      "execution_count": 16,
      "outputs": [
        {
          "output_type": "stream",
          "name": "stdout",
          "text": [
            "Model: \"sequential\"\n",
            "_________________________________________________________________\n",
            " Layer (type)                Output Shape              Param #   \n",
            "=================================================================\n",
            " conv2d (Conv2D)             (None, 62, 62, 32)        896       \n",
            "                                                                 \n",
            " max_pooling2d (MaxPooling2D  (None, 31, 31, 32)       0         \n",
            " )                                                               \n",
            "                                                                 \n",
            " flatten (Flatten)           (None, 30752)             0         \n",
            "                                                                 \n",
            " dense (Dense)               (None, 300)               9225900   \n",
            "                                                                 \n",
            " dense_1 (Dense)             (None, 150)               45150     \n",
            "                                                                 \n",
            " dense_2 (Dense)             (None, 5)                 755       \n",
            "                                                                 \n",
            "=================================================================\n",
            "Total params: 9,272,701\n",
            "Trainable params: 9,272,701\n",
            "Non-trainable params: 0\n",
            "_________________________________________________________________\n"
          ]
        }
      ]
    },
    {
      "cell_type": "markdown",
      "source": [
        "# Compile Model"
      ],
      "metadata": {
        "id": "GjW-KgydWR03"
      }
    },
    {
      "cell_type": "code",
      "source": [
        "model.compile(optimizer='adam',loss='categorical_crossentropy',metrics=['accuracy'])"
      ],
      "metadata": {
        "id": "aSnYgW1sWY9K"
      },
      "execution_count": 18,
      "outputs": []
    },
    {
      "cell_type": "markdown",
      "source": [
        "# Fit the model"
      ],
      "metadata": {
        "id": "wjhwRqCRWkFm"
      }
    },
    {
      "cell_type": "code",
      "source": [
        "model.fit_generator(x_train,steps_per_epoch=len(x_train), validation_data=x_test, validation_steps=len(x_test), epochs= 30)"
      ],
      "metadata": {
        "colab": {
          "base_uri": "https://localhost:8080/"
        },
        "id": "WHsF5HZLWfU2",
        "outputId": "425c5ca0-98b1-4b58-a54c-a148412b5423"
      },
      "execution_count": 19,
      "outputs": [
        {
          "output_type": "stream",
          "name": "stderr",
          "text": [
            "/usr/local/lib/python3.7/dist-packages/ipykernel_launcher.py:1: UserWarning: `Model.fit_generator` is deprecated and will be removed in a future version. Please use `Model.fit`, which supports generators.\n",
            "  \"\"\"Entry point for launching an IPython kernel.\n"
          ]
        },
        {
          "output_type": "stream",
          "name": "stdout",
          "text": [
            "Epoch 1/30\n",
            "44/44 [==============================] - 1289s 29s/step - loss: 1.6937 - accuracy: 0.3672 - val_loss: 1.2127 - val_accuracy: 0.4959\n",
            "Epoch 2/30\n",
            "44/44 [==============================] - 61s 1s/step - loss: 1.1230 - accuracy: 0.5411 - val_loss: 1.1126 - val_accuracy: 0.5596\n",
            "Epoch 3/30\n",
            "44/44 [==============================] - 59s 1s/step - loss: 1.0406 - accuracy: 0.5962 - val_loss: 1.0014 - val_accuracy: 0.6092\n",
            "Epoch 4/30\n",
            "44/44 [==============================] - 59s 1s/step - loss: 0.9991 - accuracy: 0.6092 - val_loss: 1.0107 - val_accuracy: 0.6141\n",
            "Epoch 5/30\n",
            "44/44 [==============================] - 61s 1s/step - loss: 0.9384 - accuracy: 0.6328 - val_loss: 0.9288 - val_accuracy: 0.6551\n",
            "Epoch 6/30\n",
            "44/44 [==============================] - 59s 1s/step - loss: 0.8833 - accuracy: 0.6644 - val_loss: 0.8560 - val_accuracy: 0.6833\n",
            "Epoch 7/30\n",
            "44/44 [==============================] - 59s 1s/step - loss: 0.8457 - accuracy: 0.6789 - val_loss: 0.8415 - val_accuracy: 0.6954\n",
            "Epoch 8/30\n",
            "44/44 [==============================] - 61s 1s/step - loss: 0.8202 - accuracy: 0.6926 - val_loss: 0.7930 - val_accuracy: 0.7079\n",
            "Epoch 9/30\n",
            "44/44 [==============================] - 59s 1s/step - loss: 0.8055 - accuracy: 0.6924 - val_loss: 0.8421 - val_accuracy: 0.6965\n",
            "Epoch 10/30\n",
            "44/44 [==============================] - 59s 1s/step - loss: 0.7635 - accuracy: 0.7160 - val_loss: 0.6824 - val_accuracy: 0.7517\n",
            "Epoch 11/30\n",
            "44/44 [==============================] - 58s 1s/step - loss: 0.7228 - accuracy: 0.7216 - val_loss: 0.7176 - val_accuracy: 0.7315\n",
            "Epoch 12/30\n",
            "44/44 [==============================] - 61s 1s/step - loss: 0.7027 - accuracy: 0.7315 - val_loss: 0.6387 - val_accuracy: 0.7758\n",
            "Epoch 13/30\n",
            "44/44 [==============================] - 58s 1s/step - loss: 0.6770 - accuracy: 0.7450 - val_loss: 0.5994 - val_accuracy: 0.7853\n",
            "Epoch 14/30\n",
            "44/44 [==============================] - 59s 1s/step - loss: 0.6468 - accuracy: 0.7582 - val_loss: 0.7065 - val_accuracy: 0.7494\n",
            "Epoch 15/30\n",
            "44/44 [==============================] - 61s 1s/step - loss: 0.6342 - accuracy: 0.7626 - val_loss: 0.6746 - val_accuracy: 0.7531\n",
            "Epoch 16/30\n",
            "44/44 [==============================] - 58s 1s/step - loss: 0.6413 - accuracy: 0.7575 - val_loss: 0.6012 - val_accuracy: 0.7876\n",
            "Epoch 17/30\n",
            "44/44 [==============================] - 58s 1s/step - loss: 0.5709 - accuracy: 0.7892 - val_loss: 0.5514 - val_accuracy: 0.7922\n",
            "Epoch 18/30\n",
            "44/44 [==============================] - 60s 1s/step - loss: 0.5547 - accuracy: 0.7962 - val_loss: 0.5632 - val_accuracy: 0.8029\n",
            "Epoch 19/30\n",
            "44/44 [==============================] - 60s 1s/step - loss: 0.5463 - accuracy: 0.7992 - val_loss: 0.5097 - val_accuracy: 0.8043\n",
            "Epoch 20/30\n",
            "44/44 [==============================] - 63s 1s/step - loss: 0.5225 - accuracy: 0.8036 - val_loss: 0.4752 - val_accuracy: 0.8284\n",
            "Epoch 21/30\n",
            "44/44 [==============================] - 63s 1s/step - loss: 0.4863 - accuracy: 0.8179 - val_loss: 0.5117 - val_accuracy: 0.8198\n",
            "Epoch 22/30\n",
            "44/44 [==============================] - 59s 1s/step - loss: 0.5138 - accuracy: 0.8107 - val_loss: 0.4554 - val_accuracy: 0.8321\n",
            "Epoch 23/30\n",
            "44/44 [==============================] - 60s 1s/step - loss: 0.4500 - accuracy: 0.8286 - val_loss: 0.3875 - val_accuracy: 0.8580\n",
            "Epoch 24/30\n",
            "44/44 [==============================] - 60s 1s/step - loss: 0.4258 - accuracy: 0.8427 - val_loss: 0.3580 - val_accuracy: 0.8703\n",
            "Epoch 25/30\n",
            "44/44 [==============================] - 60s 1s/step - loss: 0.4258 - accuracy: 0.8485 - val_loss: 0.3388 - val_accuracy: 0.8770\n",
            "Epoch 26/30\n",
            "44/44 [==============================] - 64s 1s/step - loss: 0.4601 - accuracy: 0.8330 - val_loss: 0.3696 - val_accuracy: 0.8587\n",
            "Epoch 27/30\n",
            "44/44 [==============================] - 63s 1s/step - loss: 0.3861 - accuracy: 0.8562 - val_loss: 0.2857 - val_accuracy: 0.8934\n",
            "Epoch 28/30\n",
            "44/44 [==============================] - 63s 1s/step - loss: 0.3858 - accuracy: 0.8580 - val_loss: 0.3262 - val_accuracy: 0.8809\n",
            "Epoch 29/30\n",
            "44/44 [==============================] - 60s 1s/step - loss: 0.3616 - accuracy: 0.8719 - val_loss: 0.2328 - val_accuracy: 0.9203\n",
            "Epoch 30/30\n",
            "44/44 [==============================] - 61s 1s/step - loss: 0.3451 - accuracy: 0.8719 - val_loss: 0.2348 - val_accuracy: 0.9157\n"
          ]
        },
        {
          "output_type": "execute_result",
          "data": {
            "text/plain": [
              "<keras.callbacks.History at 0x7f8e66a29390>"
            ]
          },
          "metadata": {},
          "execution_count": 19
        }
      ]
    },
    {
      "cell_type": "code",
      "source": [],
      "metadata": {
        "id": "m1btQCZnWq5E"
      },
      "execution_count": null,
      "outputs": []
    },
    {
      "cell_type": "markdown",
      "source": [
        "# Save the model"
      ],
      "metadata": {
        "id": "8zmVLtvdiU2C"
      }
    },
    {
      "cell_type": "code",
      "source": [
        "model.save('gdrive/MyDrive/flowers/flower_cnn.h5')"
      ],
      "metadata": {
        "id": "uXcE1TJQie3w"
      },
      "execution_count": 20,
      "outputs": []
    },
    {
      "cell_type": "markdown",
      "source": [
        "# Test Model"
      ],
      "metadata": {
        "id": "nYGmFPd5ibd4"
      }
    },
    {
      "cell_type": "code",
      "source": [
        "import numpy as np\n"
      ],
      "metadata": {
        "id": "LMaa9QUzidui"
      },
      "execution_count": 21,
      "outputs": []
    },
    {
      "cell_type": "code",
      "source": [
        "from tensorflow.keras.models import load_model\n",
        "from tensorflow.keras.preprocessing import image\n"
      ],
      "metadata": {
        "id": "Af_K4mCziubm"
      },
      "execution_count": 22,
      "outputs": []
    },
    {
      "cell_type": "code",
      "source": [
        "model=load_model('gdrive/MyDrive/flowers/flower_cnn.h5')\n",
        "val = list(x_train.class_indices.keys())\n",
        "val"
      ],
      "metadata": {
        "colab": {
          "base_uri": "https://localhost:8080/"
        },
        "id": "TuXi782kiutu",
        "outputId": "f105505a-0acd-405e-fd76-389f5e83f458"
      },
      "execution_count": 23,
      "outputs": [
        {
          "output_type": "execute_result",
          "data": {
            "text/plain": [
              "['daisy', 'dandelion', 'rose', 'sunflower', 'tulip']"
            ]
          },
          "metadata": {},
          "execution_count": 23
        }
      ]
    },
    {
      "cell_type": "code",
      "source": [
        "img=image.load_img(r\"gdrive/MyDrive/flowers/dandelion/160456948_38c3817c6a_m.jpg\",target_size=(64,64))\n",
        "x=image.img_to_array(img)\n",
        "x=np.expand_dims(x,axis=0)\n",
        "y=np.argmax(model.predict(x),axis=1)\n",
        "\n",
        "index=['daisy','dandelion','rose','sunflower','tulip']\n",
        "index[y[0]]"
      ],
      "metadata": {
        "colab": {
          "base_uri": "https://localhost:8080/",
          "height": 53
        },
        "id": "hYq1X8H8iu-3",
        "outputId": "c6015b6b-a6be-4d2f-bcea-b068c3da1c34"
      },
      "execution_count": 25,
      "outputs": [
        {
          "output_type": "stream",
          "name": "stdout",
          "text": [
            "1/1 [==============================] - 0s 150ms/step\n"
          ]
        },
        {
          "output_type": "execute_result",
          "data": {
            "text/plain": [
              "'dandelion'"
            ],
            "application/vnd.google.colaboratory.intrinsic+json": {
              "type": "string"
            }
          },
          "metadata": {},
          "execution_count": 25
        }
      ]
    },
    {
      "cell_type": "code",
      "source": [],
      "metadata": {
        "id": "WPRaSmFtj0aR"
      },
      "execution_count": null,
      "outputs": []
    }
  ]
}